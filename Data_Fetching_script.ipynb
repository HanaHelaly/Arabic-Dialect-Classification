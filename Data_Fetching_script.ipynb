{
  "cells": [
    {
      "cell_type": "markdown",
      "metadata": {
        "id": "3i1wJCAehvno"
      },
      "source": [
        "### Importing Packages"
      ]
    },
    {
      "cell_type": "code",
      "execution_count": 1,
      "metadata": {
        "id": "SZhklb5Qabsq"
      },
      "outputs": [],
      "source": [
        "import sqlite3\n",
        "import pandas as pd\n",
        "import numpy as np"
      ]
    },
    {
      "cell_type": "markdown",
      "metadata": {
        "id": "34BQ5Ipph2TW"
      },
      "source": [
        "### Global Variables"
      ]
    },
    {
      "cell_type": "code",
      "execution_count": 2,
      "metadata": {
        "id": "8AMlNY1Zh5p2"
      },
      "outputs": [],
      "source": [
        "data_path = 'data/'\n",
        "database = f'{data_path}dialects_database.db'"
      ]
    },
    {
      "cell_type": "markdown",
      "metadata": {
        "id": "s9Q4qDPIiG7G"
      },
      "source": [
        "## Data Fetching"
      ]
    },
    {
      "cell_type": "code",
      "execution_count": 3,
      "metadata": {
        "id": "tlMwCM20bV1p"
      },
      "outputs": [],
      "source": [
        "con = sqlite3.connect(database)"
      ]
    },
    {
      "cell_type": "code",
      "execution_count": 4,
      "metadata": {
        "id": "Chy0in6Ebijv"
      },
      "outputs": [],
      "source": [
        "cur = con.cursor()"
      ]
    },
    {
      "cell_type": "code",
      "execution_count": 5,
      "metadata": {
        "colab": {
          "base_uri": "https://localhost:8080/"
        },
        "id": "FufEEz4HdWlC",
        "outputId": "5aabdf73-1622-457e-d7b6-954c1956b951"
      },
      "outputs": [
        {
          "name": "stdout",
          "output_type": "stream",
          "text": [
            "[('id_text',), ('id_dialect',)]\n"
          ]
        }
      ],
      "source": [
        "print(cur.execute(\"SELECT name FROM sqlite_master\").fetchall())\n",
        "cur.close()"
      ]
    },
    {
      "cell_type": "code",
      "execution_count": 6,
      "metadata": {
        "colab": {
          "base_uri": "https://localhost:8080/"
        },
        "id": "zVqMr6-werNv",
        "outputId": "b2b728dc-5f41-4751-de15-505a66e88042"
      },
      "outputs": [
        {
          "name": "stdout",
          "output_type": "stream",
          "text": [
            "Testing get_column_names function:\n",
            "The column names of $ sqlite_master $ are : ['type', 'name', 'tbl_name', 'rootpage', 'sql']\n"
          ]
        }
      ],
      "source": [
        "def get_column_names(cursor : sqlite3.Cursor, table_name : str) -> list[str]:\n",
        "    \"\"\"\n",
        "    Retrieve the column names for a specific table in the database.\n",
        "\n",
        "    Parameters\n",
        "    ----------\n",
        "    cursor : sqlite3.Cursor\n",
        "        Cursor object to execute SQL queries.\n",
        "    table_name : str\n",
        "        Name of the table to retrieve column names from.\n",
        "\n",
        "    Returns\n",
        "    -------\n",
        "    list of str\n",
        "        List of column names.\n",
        "    \"\"\"\n",
        "    conn = sqlite3.connect(database)\n",
        "    cursor = conn.cursor()\n",
        "\n",
        "    cursor.execute(f\"SELECT * FROM {table_name}\")\n",
        "\n",
        "    #### Get column names from the cursor's description attribute\n",
        "    column_names = [description[0] for description in cursor.description]\n",
        "\n",
        "    conn.close()\n",
        "\n",
        "    return column_names\n",
        "\n",
        "print('Testing get_column_names function:')\n",
        "table_name = 'sqlite_master'\n",
        "\n",
        "cur = con.cursor()\n",
        "print(f'The column names of $ {table_name} $ are : {get_column_names(cur, table_name)}')\n",
        "cur.close()"
      ]
    },
    {
      "cell_type": "code",
      "execution_count": 7,
      "metadata": {
        "colab": {
          "base_uri": "https://localhost:8080/"
        },
        "id": "CVOQ-0aAmZnt",
        "outputId": "0e78327e-8a1c-47ff-b19d-dcf7b21b8b66"
      },
      "outputs": [
        {
          "name": "stdout",
          "output_type": "stream",
          "text": [
            "Testing get_all_tables_in_db function:\n",
            "All the tables are : ['id_text', 'id_dialect']\n"
          ]
        }
      ],
      "source": [
        "def get_all_tables_in_db(cursor : sqlite3.Cursor) -> list[str]:\n",
        "    \"\"\"\n",
        "    Retrieve the names of all tables in the database.\n",
        "\n",
        "    Parameters\n",
        "    ----------\n",
        "    cursor : sqlite3.Cursor\n",
        "        Cursor object to execute SQL queries.\n",
        "\n",
        "    Returns\n",
        "    -------\n",
        "    list of str\n",
        "        List of table names.\n",
        "    \"\"\"\n",
        "    res = cursor.execute(\"SELECT name FROM sqlite_master WHERE type='table'\").fetchall()\n",
        "\n",
        "    tables = [tab[0] for tab in res]\n",
        "\n",
        "    return tables\n",
        "\n",
        "print('Testing get_all_tables_in_db function:')\n",
        "cur = con.cursor()\n",
        "print(f'All the tables are : {get_all_tables_in_db(cur)}')\n",
        "cur.close()"
      ]
    },
    {
      "cell_type": "code",
      "execution_count": 8,
      "metadata": {
        "id": "6YNjfwmzlwGQ"
      },
      "outputs": [],
      "source": [
        "def convert_database_tables_to_dataframe(database : str):\n",
        "    \"\"\"\n",
        "    Extract data from the database and put it in a DataFrame\n",
        "\n",
        "    Parameters\n",
        "    ----------\n",
        "    database : str\n",
        "        Path to the SQLite database file.\n",
        "\n",
        "    Returns\n",
        "    -------\n",
        "    list of pd.DataFrames\n",
        "        List of the database tables in the dataframe format\n",
        "    \"\"\"\n",
        "    conn = sqlite3.connect(database)\n",
        "    cursor = conn.cursor()\n",
        "\n",
        "    #### Get all tables in the database.\n",
        "    table_names = get_all_tables_in_db(cursor)\n",
        "\n",
        "    dfs = []\n",
        "\n",
        "    #### Iterate over the tables and create a DataFrame for each table.\n",
        "    for table_name in table_names:\n",
        "        #### Get column names\n",
        "        column_names = get_column_names(cursor, table_name)\n",
        "\n",
        "        #### Get the data from the table\n",
        "        text_cur = cursor.execute(f'SELECT * from {table_name}')\n",
        "        text = text_cur.fetchall()\n",
        "\n",
        "        #### Create a DataFrame with the column names\n",
        "        text_df = pd.DataFrame(text, columns=column_names)\n",
        "\n",
        "        print(text_df.head(3))\n",
        "\n",
        "        dfs.append(text_df)\n",
        "\n",
        "    cursor.close()\n",
        "\n",
        "    return dfs"
      ]
    },
    {
      "cell_type": "code",
      "execution_count": 9,
      "metadata": {
        "colab": {
          "base_uri": "https://localhost:8080/"
        },
        "id": "OCFj9fNIYgDg",
        "outputId": "2f950725-e409-4559-9231-b26c44afebd8"
      },
      "outputs": [
        {
          "name": "stdout",
          "output_type": "stream",
          "text": [
            "                    id                                               text\n",
            "0  1009754958479151232  @toha_Altomy @gy_yah قليلين ادب ومنافقين. لو ا...\n",
            "1  1009794751548313600  @AlmFaisal 😂😂 الليبيين متقلبين!!!\\nبس بالنسبة ...\n",
            "2  1019989115490787200  @smsm071990 @ALMOGRBE كل 20 تانيه شاب ليبي بير...\n",
            "                    id dialect\n",
            "0  1009754958479151232      LY\n",
            "1  1009794751548313600      LY\n",
            "2  1019989115490787200      LY\n"
          ]
        }
      ],
      "source": [
        "tables_df = convert_database_tables_to_dataframe(database)"
      ]
    },
    {
      "cell_type": "code",
      "execution_count": 10,
      "metadata": {
        "id": "SqKS2LuNeZQD"
      },
      "outputs": [],
      "source": [
        "text, dialect = tables_df[0], tables_df[1]\n",
        "assert text.shape[0] == dialect.shape[0], 'Make sure the tables has the same number of rows'"
      ]
    },
    {
      "cell_type": "code",
      "execution_count": 11,
      "metadata": {
        "colab": {
          "base_uri": "https://localhost:8080/",
          "height": 161
        },
        "id": "4gwl57bofJaL",
        "outputId": "e6ac5b72-bcd4-49d7-89ff-6f10e824f1dd"
      },
      "outputs": [
        {
          "name": "stdout",
          "output_type": "stream",
          "text": [
            "(147725, 2)\n"
          ]
        },
        {
          "data": {
            "text/html": [
              "<div>\n",
              "<style scoped>\n",
              "    .dataframe tbody tr th:only-of-type {\n",
              "        vertical-align: middle;\n",
              "    }\n",
              "\n",
              "    .dataframe tbody tr th {\n",
              "        vertical-align: top;\n",
              "    }\n",
              "\n",
              "    .dataframe thead th {\n",
              "        text-align: right;\n",
              "    }\n",
              "</style>\n",
              "<table border=\"1\" class=\"dataframe\">\n",
              "  <thead>\n",
              "    <tr style=\"text-align: right;\">\n",
              "      <th></th>\n",
              "      <th>text</th>\n",
              "      <th>dialect</th>\n",
              "    </tr>\n",
              "  </thead>\n",
              "  <tbody>\n",
              "    <tr>\n",
              "      <th>24791</th>\n",
              "      <td>@farah25193 مشاء الله طالعه تجنني 😂😂😂</td>\n",
              "      <td>LY</td>\n",
              "    </tr>\n",
              "    <tr>\n",
              "      <th>63787</th>\n",
              "      <td>@hassan_almasriy آه \\nالخميس المظلووووم😭\\nحتى ...</td>\n",
              "      <td>EG</td>\n",
              "    </tr>\n",
              "    <tr>\n",
              "      <th>23750</th>\n",
              "      <td>- دزيلي صورتك بلا مكياج . \\n- باهي ما تقول انك...</td>\n",
              "      <td>LY</td>\n",
              "    </tr>\n",
              "  </tbody>\n",
              "</table>\n",
              "</div>"
            ],
            "text/plain": [
              "                                                    text dialect\n",
              "24791              @farah25193 مشاء الله طالعه تجنني 😂😂😂      LY\n",
              "63787  @hassan_almasriy آه \\nالخميس المظلووووم😭\\nحتى ...      EG\n",
              "23750  - دزيلي صورتك بلا مكياج . \\n- باهي ما تقول انك...      LY"
            ]
          },
          "execution_count": 11,
          "metadata": {},
          "output_type": "execute_result"
        }
      ],
      "source": [
        "df_ = text.merge(dialect, on='id')\n",
        "df_.drop(columns=['id'], inplace=True)\n",
        "print(df_.shape)\n",
        "df_.sample(3)"
      ]
    },
    {
      "cell_type": "markdown",
      "metadata": {
        "id": "NDGgeHOEydvs"
      },
      "source": [
        "## Saving and Loading the data"
      ]
    },
    {
      "cell_type": "code",
      "execution_count": 12,
      "metadata": {
        "id": "lrg63gEcyiwB"
      },
      "outputs": [],
      "source": [
        "df_.to_excel(f'{data_path}arabic_dialects.xlsx', header=True, index=False)"
      ]
    },
    {
      "cell_type": "code",
      "execution_count": 14,
      "metadata": {
        "colab": {
          "base_uri": "https://localhost:8080/",
          "height": 424
        },
        "id": "XEzskxkizImR",
        "outputId": "b1121abf-e1d5-4204-8e86-6ce7c4882074"
      },
      "outputs": [
        {
          "data": {
            "text/html": [
              "<div>\n",
              "<style scoped>\n",
              "    .dataframe tbody tr th:only-of-type {\n",
              "        vertical-align: middle;\n",
              "    }\n",
              "\n",
              "    .dataframe tbody tr th {\n",
              "        vertical-align: top;\n",
              "    }\n",
              "\n",
              "    .dataframe thead th {\n",
              "        text-align: right;\n",
              "    }\n",
              "</style>\n",
              "<table border=\"1\" class=\"dataframe\">\n",
              "  <thead>\n",
              "    <tr style=\"text-align: right;\">\n",
              "      <th></th>\n",
              "      <th>text</th>\n",
              "      <th>dialect</th>\n",
              "    </tr>\n",
              "  </thead>\n",
              "  <tbody>\n",
              "    <tr>\n",
              "      <th>0</th>\n",
              "      <td>@toha_Altomy @gy_yah قليلين ادب ومنافقين. لو ا...</td>\n",
              "      <td>LY</td>\n",
              "    </tr>\n",
              "    <tr>\n",
              "      <th>1</th>\n",
              "      <td>@AlmFaisal 😂😂 الليبيين متقلبين!!!\\nبس بالنسبة ...</td>\n",
              "      <td>LY</td>\n",
              "    </tr>\n",
              "    <tr>\n",
              "      <th>2</th>\n",
              "      <td>@smsm071990 @ALMOGRBE كل 20 تانيه شاب ليبي بير...</td>\n",
              "      <td>LY</td>\n",
              "    </tr>\n",
              "    <tr>\n",
              "      <th>3</th>\n",
              "      <td>@AboryPro @lyranoo85 رانيا عقليتك متخلفة. اولا...</td>\n",
              "      <td>LY</td>\n",
              "    </tr>\n",
              "    <tr>\n",
              "      <th>4</th>\n",
              "      <td>@lyranoo85 شكلك متعقدة علشان الراجل لي تحبيه ا...</td>\n",
              "      <td>LY</td>\n",
              "    </tr>\n",
              "    <tr>\n",
              "      <th>...</th>\n",
              "      <td>...</td>\n",
              "      <td>...</td>\n",
              "    </tr>\n",
              "    <tr>\n",
              "      <th>147720</th>\n",
              "      <td>الناس دي بتنفخ في قربة مقدودة بالدارجي كده  ال...</td>\n",
              "      <td>SD</td>\n",
              "    </tr>\n",
              "    <tr>\n",
              "      <th>147721</th>\n",
              "      <td>@Wail_Hamza @amiromer انت عايش وين بره السودان...</td>\n",
              "      <td>SD</td>\n",
              "    </tr>\n",
              "    <tr>\n",
              "      <th>147722</th>\n",
              "      <td>مااحرم نفسي ميسي حريف ولعاب برضو ..\\nمدريدي وا...</td>\n",
              "      <td>SD</td>\n",
              "    </tr>\n",
              "    <tr>\n",
              "      <th>147723</th>\n",
              "      <td>ياخي ديل ماخلو  للشيطان وإبليس شي لكن يروحو وي...</td>\n",
              "      <td>SD</td>\n",
              "    </tr>\n",
              "    <tr>\n",
              "      <th>147724</th>\n",
              "      <td>@abdomaged127 النبي فيك صدمتني ياخي عاوز تعويض</td>\n",
              "      <td>SD</td>\n",
              "    </tr>\n",
              "  </tbody>\n",
              "</table>\n",
              "<p>147725 rows × 2 columns</p>\n",
              "</div>"
            ],
            "text/plain": [
              "                                                     text dialect\n",
              "0       @toha_Altomy @gy_yah قليلين ادب ومنافقين. لو ا...      LY\n",
              "1       @AlmFaisal 😂😂 الليبيين متقلبين!!!\\nبس بالنسبة ...      LY\n",
              "2       @smsm071990 @ALMOGRBE كل 20 تانيه شاب ليبي بير...      LY\n",
              "3       @AboryPro @lyranoo85 رانيا عقليتك متخلفة. اولا...      LY\n",
              "4       @lyranoo85 شكلك متعقدة علشان الراجل لي تحبيه ا...      LY\n",
              "...                                                   ...     ...\n",
              "147720  الناس دي بتنفخ في قربة مقدودة بالدارجي كده  ال...      SD\n",
              "147721  @Wail_Hamza @amiromer انت عايش وين بره السودان...      SD\n",
              "147722  مااحرم نفسي ميسي حريف ولعاب برضو ..\\nمدريدي وا...      SD\n",
              "147723  ياخي ديل ماخلو  للشيطان وإبليس شي لكن يروحو وي...      SD\n",
              "147724     @abdomaged127 النبي فيك صدمتني ياخي عاوز تعويض      SD\n",
              "\n",
              "[147725 rows x 2 columns]"
            ]
          },
          "execution_count": 14,
          "metadata": {},
          "output_type": "execute_result"
        }
      ],
      "source": [
        "pd.read_excel(f'{data_path}arabic_dialects.xlsx')"
      ]
    },
    {
      "cell_type": "markdown",
      "metadata": {
        "id": "62MwLOBxzhk3"
      },
      "source": [
        "When we try to load the data after saving it using CSV format it results in the following error:\n",
        "\n",
        "\n",
        "```\n",
        "ParserError: Error tokenizing data. C error: Buffer overflow caught - possible malformed input file.\n",
        "```\n",
        "We can solve this error using open in `rb` mode and `io` the built-in library.\n",
        "\n",
        "We decided to save the data in XlSX format.\n",
        "\n"
      ]
    },
    {
      "cell_type": "markdown",
      "metadata": {
        "id": "Su72fxf4yg8O"
      },
      "source": [
        "_________"
      ]
    },
    {
      "cell_type": "markdown",
      "metadata": {
        "id": "C7KJpZgI5tVt"
      },
      "source": [
        "### Testing"
      ]
    },
    {
      "cell_type": "code",
      "execution_count": 15,
      "metadata": {
        "id": "WaJ2jb3mf1UW"
      },
      "outputs": [],
      "source": [
        "df_.to_csv('arabic_dialects.csv', header=True, index=False, encoding='utf-8')"
      ]
    },
    {
      "cell_type": "code",
      "execution_count": 16,
      "metadata": {
        "colab": {
          "base_uri": "https://localhost:8080/",
          "height": 200
        },
        "id": "MevvlBwN5JQx",
        "outputId": "86b626a4-4980-4c7a-a38e-a5ebd06097b0"
      },
      "outputs": [
        {
          "data": {
            "text/html": [
              "<div>\n",
              "<style scoped>\n",
              "    .dataframe tbody tr th:only-of-type {\n",
              "        vertical-align: middle;\n",
              "    }\n",
              "\n",
              "    .dataframe tbody tr th {\n",
              "        vertical-align: top;\n",
              "    }\n",
              "\n",
              "    .dataframe thead th {\n",
              "        text-align: right;\n",
              "    }\n",
              "</style>\n",
              "<table border=\"1\" class=\"dataframe\">\n",
              "  <thead>\n",
              "    <tr style=\"text-align: right;\">\n",
              "      <th></th>\n",
              "      <th>text</th>\n",
              "      <th>dialect</th>\n",
              "    </tr>\n",
              "  </thead>\n",
              "  <tbody>\n",
              "    <tr>\n",
              "      <th>0</th>\n",
              "      <td>@toha_Altomy @gy_yah قليلين ادب ومنافقين. لو ا...</td>\n",
              "      <td>LY</td>\n",
              "    </tr>\n",
              "    <tr>\n",
              "      <th>1</th>\n",
              "      <td>@AlmFaisal 😂😂 الليبيين متقلبين!!!\\nبس بالنسبة ...</td>\n",
              "      <td>LY</td>\n",
              "    </tr>\n",
              "    <tr>\n",
              "      <th>2</th>\n",
              "      <td>@smsm071990 @ALMOGRBE كل 20 تانيه شاب ليبي بير...</td>\n",
              "      <td>LY</td>\n",
              "    </tr>\n",
              "    <tr>\n",
              "      <th>3</th>\n",
              "      <td>@AboryPro @lyranoo85 رانيا عقليتك متخلفة. اولا...</td>\n",
              "      <td>LY</td>\n",
              "    </tr>\n",
              "    <tr>\n",
              "      <th>4</th>\n",
              "      <td>@lyranoo85 شكلك متعقدة علشان الراجل لي تحبيه ا...</td>\n",
              "      <td>LY</td>\n",
              "    </tr>\n",
              "    <tr>\n",
              "      <th>...</th>\n",
              "      <td>...</td>\n",
              "      <td>...</td>\n",
              "    </tr>\n",
              "    <tr>\n",
              "      <th>147720</th>\n",
              "      <td>الناس دي بتنفخ في قربة مقدودة بالدارجي كده  ال...</td>\n",
              "      <td>SD</td>\n",
              "    </tr>\n",
              "    <tr>\n",
              "      <th>147721</th>\n",
              "      <td>@Wail_Hamza @amiromer انت عايش وين بره السودان...</td>\n",
              "      <td>SD</td>\n",
              "    </tr>\n",
              "    <tr>\n",
              "      <th>147722</th>\n",
              "      <td>مااحرم نفسي ميسي حريف ولعاب برضو ..\\nمدريدي وا...</td>\n",
              "      <td>SD</td>\n",
              "    </tr>\n",
              "    <tr>\n",
              "      <th>147723</th>\n",
              "      <td>ياخي ديل ماخلو  للشيطان وإبليس شي لكن يروحو وي...</td>\n",
              "      <td>SD</td>\n",
              "    </tr>\n",
              "    <tr>\n",
              "      <th>147724</th>\n",
              "      <td>@abdomaged127 النبي فيك صدمتني ياخي عاوز تعويض</td>\n",
              "      <td>SD</td>\n",
              "    </tr>\n",
              "  </tbody>\n",
              "</table>\n",
              "<p>147725 rows × 2 columns</p>\n",
              "</div>"
            ],
            "text/plain": [
              "                                                     text dialect\n",
              "0       @toha_Altomy @gy_yah قليلين ادب ومنافقين. لو ا...      LY\n",
              "1       @AlmFaisal 😂😂 الليبيين متقلبين!!!\\nبس بالنسبة ...      LY\n",
              "2       @smsm071990 @ALMOGRBE كل 20 تانيه شاب ليبي بير...      LY\n",
              "3       @AboryPro @lyranoo85 رانيا عقليتك متخلفة. اولا...      LY\n",
              "4       @lyranoo85 شكلك متعقدة علشان الراجل لي تحبيه ا...      LY\n",
              "...                                                   ...     ...\n",
              "147720  الناس دي بتنفخ في قربة مقدودة بالدارجي كده  ال...      SD\n",
              "147721  @Wail_Hamza @amiromer انت عايش وين بره السودان...      SD\n",
              "147722  مااحرم نفسي ميسي حريف ولعاب برضو ..\\nمدريدي وا...      SD\n",
              "147723  ياخي ديل ماخلو  للشيطان وإبليس شي لكن يروحو وي...      SD\n",
              "147724     @abdomaged127 النبي فيك صدمتني ياخي عاوز تعويض      SD\n",
              "\n",
              "[147725 rows x 2 columns]"
            ]
          },
          "execution_count": 16,
          "metadata": {},
          "output_type": "execute_result"
        }
      ],
      "source": [
        "pd.read_csv('arabic_dialects.csv')"
      ]
    },
    {
      "cell_type": "code",
      "execution_count": 17,
      "metadata": {
        "id": "2G2VLZt-naxi"
      },
      "outputs": [
        {
          "name": "stdout",
          "output_type": "stream",
          "text": [
            "text,dialect\n",
            "@toha_Altomy @gy_yah قليلين ادب ومنافقين. لو اختهم او قريبتهم تتعاكس تقولي عليهم من نشاط حقوق المرأة من ردة فعلهم.,LY\n",
            "\"@AlmFaisal 😂😂 الليبيين متقلبين!!!\n",
            "بس بالنسبة ليا انا ميليشياوي زمان وتوة\",LY\n",
            "\"@smsm071990 @ALMOGRBE كل 20 تانيه شاب ليبي بيرتاح لبنت مختلفة ويلاحظ انها غير كل البنات وبيحس كأنه يعرفها من زمان. بعدين يتزوج وحدة منهن وممكن اثنين ولاثلاثة وتنقلب الرومانسية لعياط وشياط وتهزيب\n",
            "and they live happily ever after\n",
            "ذي اند\",LY\n",
            "@AboryPro @lyranoo85 رانيا عقليتك متخلفة. اولا الان\n",
            "(147725, 2)\n",
            "Index(['text', 'dialect'], dtype='object')\n",
            "                                                text dialect\n",
            "0  @toha_Altomy @gy_yah قليلين ادب ومنافقين. لو ا...      LY\n",
            "1  @AlmFaisal 😂😂 الليبيين متقلبين!!!\\nبس بالنسبة ...      LY\n",
            "2  @smsm071990 @ALMOGRBE كل 20 تانيه شاب ليبي بير...      LY\n",
            "3  @AboryPro @lyranoo85 رانيا عقليتك متخلفة. اولا...      LY\n",
            "4  @lyranoo85 شكلك متعقدة علشان الراجل لي تحبيه ا...      LY\n"
          ]
        }
      ],
      "source": [
        "import io\n",
        "\n",
        "# Read the file content as a string\n",
        "with open('arabic_dialects.csv', 'r', encoding='utf-8', errors='ignore') as f:\n",
        "    content = f.read()\n",
        "    print(content[:500])\n",
        "# Use StringIO to read the content\n",
        "data = io.StringIO(content)\n",
        "try:\n",
        "    df = pd.read_csv(data)\n",
        "    print(df.shape)\n",
        "    print(df.columns)\n",
        "    print(df.head())\n",
        "except pd.errors.ParserError as e:\n",
        "    print(f\"Error parsing CSV: {e}\")\n"
      ]
    },
    {
      "cell_type": "code",
      "execution_count": 18,
      "metadata": {
        "id": "C2qoeIlquXKb"
      },
      "outputs": [
        {
          "name": "stdout",
          "output_type": "stream",
          "text": [
            "Requirement already satisfied: chardet in c:\\users\\adel\\appdata\\local\\programs\\python\\python310\\lib\\site-packages (5.2.0)\n"
          ]
        },
        {
          "name": "stderr",
          "output_type": "stream",
          "text": [
            "\n",
            "[notice] A new release of pip is available: 23.1.2 -> 24.0\n",
            "[notice] To update, run: python.exe -m pip install --upgrade pip\n"
          ]
        }
      ],
      "source": [
        "!pip install chardet"
      ]
    },
    {
      "cell_type": "code",
      "execution_count": 19,
      "metadata": {
        "id": "p8ZX8JvLuXNT"
      },
      "outputs": [
        {
          "name": "stdout",
          "output_type": "stream",
          "text": [
            "{'encoding': 'TIS-620', 'confidence': 0.29502373875743676, 'language': 'Thai'}\n",
            "(147725, 2)\n",
            "                                                text dialect\n",
            "0  @toha_Altomy @gy_yah ูููููู ุงุฏุจ ููู...      LY\n",
            "1  @AlmFaisal ๐๐ ุงูููุจููู ูุชููุ...      LY\n",
            "2  @smsm071990 @ALMOGRBE ูู 20 ุชุงููู ุดุงุ...      LY\n",
            "3  @AboryPro @lyranoo85 ุฑุงููุง ุนูููุชู ู...      LY\n",
            "4  @lyranoo85 ุดููู ูุชุนูุฏุฉ ุนูุดุงู ุง...      LY\n"
          ]
        }
      ],
      "source": [
        "import chardet\n",
        "\n",
        "with open('arabic_dialects.csv', 'rb') as f:\n",
        "    result = chardet.detect(f.read(10000))\n",
        "\n",
        "print(result)\n",
        "\n",
        "with open('arabic_dialects.csv', 'r', encoding=result['encoding'], errors='ignore') as f:\n",
        "    content = f.read()\n",
        "\n",
        "data = io.StringIO(content)\n",
        "try:\n",
        "    df = pd.read_csv(data)\n",
        "    print(df.shape)\n",
        "    print(df.head())\n",
        "except pd.errors.ParserError as e:\n",
        "    print(f\"Error parsing CSV: {e}\")\n"
      ]
    },
    {
      "cell_type": "markdown",
      "metadata": {
        "id": "juUy2Dfg5xTa"
      },
      "source": [
        "-----------"
      ]
    }
  ],
  "metadata": {
    "colab": {
      "provenance": []
    },
    "kernelspec": {
      "display_name": "Python 3",
      "name": "python3"
    },
    "language_info": {
      "codemirror_mode": {
        "name": "ipython",
        "version": 3
      },
      "file_extension": ".py",
      "mimetype": "text/x-python",
      "name": "python",
      "nbconvert_exporter": "python",
      "pygments_lexer": "ipython3",
      "version": "3.10.3"
    }
  },
  "nbformat": 4,
  "nbformat_minor": 0
}
