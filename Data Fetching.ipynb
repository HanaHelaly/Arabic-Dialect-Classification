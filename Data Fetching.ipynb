{
 "cells": [
  {
   "cell_type": "code",
   "execution_count": 17,
   "id": "46d8e01d",
   "metadata": {},
   "outputs": [],
   "source": [
    "import sqlite3\n",
    "import csv\n",
    "import pandas as pd"
   ]
  },
  {
   "cell_type": "code",
   "execution_count": 18,
   "id": "bb568330",
   "metadata": {},
   "outputs": [],
   "source": [
    "# connect to the database\n",
    "conn = sqlite3.connect('./dialects_database.db')"
   ]
  },
  {
   "cell_type": "code",
   "execution_count": 19,
   "id": "c1e27b55",
   "metadata": {},
   "outputs": [],
   "source": [
    "#Creating a cursor object using the cursor() method\n",
    "cursor = conn.cursor()"
   ]
  },
  {
   "cell_type": "code",
   "execution_count": 20,
   "id": "e0633c55",
   "metadata": {},
   "outputs": [],
   "source": [
    "# Execute a query to select table names from the sqlite_master table\n",
    "cursor.execute(\"SELECT name FROM sqlite_master WHERE type='table'\")\n",
    "\n",
    "# Fetch all table names\n",
    "tables = cursor.fetchall()"
   ]
  },
  {
   "cell_type": "code",
   "execution_count": 21,
   "id": "7535d6fd",
   "metadata": {},
   "outputs": [
    {
     "name": "stdout",
     "output_type": "stream",
     "text": [
      "[('id_text',), ('id_dialect',)]\n"
     ]
    }
   ],
   "source": [
    "# Table names\n",
    "print(tables)"
   ]
  },
  {
   "cell_type": "code",
   "execution_count": 22,
   "id": "2c58bda8",
   "metadata": {},
   "outputs": [
    {
     "name": "stdout",
     "output_type": "stream",
     "text": [
      "(1009754958479151232, '@toha_Altomy @gy_yah قليلين ادب ومنافقين. لو اختهم او قريبتهم تتعاكس تقولي عليهم من نشاط حقوق المرأة من ردة فعلهم.')\n",
      "(1009754958479151232, 'LY')\n"
     ]
    }
   ],
   "source": [
    "#Retrieving data\n",
    "cursor.execute('''SELECT * from id_text''')\n",
    "\n",
    "#Fetching 1st row from texttable\n",
    "text = cursor.fetchone()\n",
    "print(text)\n",
    "\n",
    "#Retrieving data\n",
    "cursor.execute('''SELECT * from id_dialect''')\n",
    "\n",
    "#Fetching 1st row from dialect table\n",
    "dialect = cursor.fetchone()\n",
    "print(dialect)"
   ]
  },
  {
   "cell_type": "markdown",
   "id": "832ca279",
   "metadata": {},
   "source": [
    "- We have two tables: 'id_text' and 'id_dialect', both sharing the same ID column.\n",
    "- We will use inner join to combine text samples from 'id_text' table with the corresponding dialect labels from 'id_dialect' based on shared IDs."
   ]
  },
  {
   "cell_type": "code",
   "execution_count": 23,
   "id": "2db9c49d",
   "metadata": {},
   "outputs": [],
   "source": [
    "# Performing inner join to join the tables using ID\n",
    "cursor.execute('''\n",
    "    SELECT id_text.text, id_dialect.dialect\n",
    "    FROM id_text\n",
    "    INNER JOIN id_dialect ON id_text.id = id_dialect.id''')\n",
    "\n",
    "# Fetch all rows of the result set\n",
    "data = cursor.fetchall()\n",
    "\n",
    "# Specify the path to the CSV file\n",
    "csv_file_path = 'arabic_dialect.csv'\n",
    "\n",
    "# Write the fetched data to a CSV file\n",
    "with open(csv_file_path, 'w', newline='', encoding='utf-8') as csv_file:\n",
    "    csv_writer = csv.writer(csv_file)\n",
    "    csv_writer.writerow(['Text', 'Dialect'])  # Write header\n",
    "    csv_writer.writerows(data)\n",
    "\n",
    "# Close the cursor and connection when done\n",
    "cursor.close()\n",
    "conn.close()"
   ]
  },
  {
   "cell_type": "code",
   "execution_count": 25,
   "id": "ff5ba50f",
   "metadata": {},
   "outputs": [
    {
     "name": "stdout",
     "output_type": "stream",
     "text": [
      "Sample of CSV data:\n",
      "                                                Text Dialect\n",
      "0  @toha_Altomy @gy_yah قليلين ادب ومنافقين. لو ا...      LY\n",
      "1  @AlmFaisal 😂😂 الليبيين متقلبين!!!\\nبس بالنسبة ...      LY\n",
      "2  @smsm071990 @ALMOGRBE كل 20 تانيه شاب ليبي بير...      LY\n",
      "3  @AboryPro @lyranoo85 رانيا عقليتك متخلفة. اولا...      LY\n",
      "4  @lyranoo85 شكلك متعقدة علشان الراجل لي تحبيه ا...      LY\n"
     ]
    }
   ],
   "source": [
    "df = pd.read_csv('arabic_dialect.csv')\n",
    "\n",
    "# Display a sample of the DataFrame\n",
    "print(\"Sample of CSV data:\")\n",
    "print(df.head())"
   ]
  },
  {
   "cell_type": "code",
   "execution_count": 26,
   "id": "628f7200",
   "metadata": {},
   "outputs": [
    {
     "data": {
      "text/html": [
       "<div>\n",
       "<style scoped>\n",
       "    .dataframe tbody tr th:only-of-type {\n",
       "        vertical-align: middle;\n",
       "    }\n",
       "\n",
       "    .dataframe tbody tr th {\n",
       "        vertical-align: top;\n",
       "    }\n",
       "\n",
       "    .dataframe thead th {\n",
       "        text-align: right;\n",
       "    }\n",
       "</style>\n",
       "<table border=\"1\" class=\"dataframe\">\n",
       "  <thead>\n",
       "    <tr style=\"text-align: right;\">\n",
       "      <th></th>\n",
       "      <th>Text</th>\n",
       "      <th>Dialect</th>\n",
       "    </tr>\n",
       "  </thead>\n",
       "  <tbody>\n",
       "    <tr>\n",
       "      <th>0</th>\n",
       "      <td>@toha_Altomy @gy_yah قليلين ادب ومنافقين. لو ا...</td>\n",
       "      <td>LY</td>\n",
       "    </tr>\n",
       "    <tr>\n",
       "      <th>1</th>\n",
       "      <td>@AlmFaisal 😂😂 الليبيين متقلبين!!!\\nبس بالنسبة ...</td>\n",
       "      <td>LY</td>\n",
       "    </tr>\n",
       "    <tr>\n",
       "      <th>2</th>\n",
       "      <td>@smsm071990 @ALMOGRBE كل 20 تانيه شاب ليبي بير...</td>\n",
       "      <td>LY</td>\n",
       "    </tr>\n",
       "    <tr>\n",
       "      <th>3</th>\n",
       "      <td>@AboryPro @lyranoo85 رانيا عقليتك متخلفة. اولا...</td>\n",
       "      <td>LY</td>\n",
       "    </tr>\n",
       "    <tr>\n",
       "      <th>4</th>\n",
       "      <td>@lyranoo85 شكلك متعقدة علشان الراجل لي تحبيه ا...</td>\n",
       "      <td>LY</td>\n",
       "    </tr>\n",
       "    <tr>\n",
       "      <th>...</th>\n",
       "      <td>...</td>\n",
       "      <td>...</td>\n",
       "    </tr>\n",
       "    <tr>\n",
       "      <th>147720</th>\n",
       "      <td>الناس دي بتنفخ في قربة مقدودة بالدارجي كده  ال...</td>\n",
       "      <td>SD</td>\n",
       "    </tr>\n",
       "    <tr>\n",
       "      <th>147721</th>\n",
       "      <td>@Wail_Hamza @amiromer انت عايش وين بره السودان...</td>\n",
       "      <td>SD</td>\n",
       "    </tr>\n",
       "    <tr>\n",
       "      <th>147722</th>\n",
       "      <td>مااحرم نفسي ميسي حريف ولعاب برضو ..\\nمدريدي وا...</td>\n",
       "      <td>SD</td>\n",
       "    </tr>\n",
       "    <tr>\n",
       "      <th>147723</th>\n",
       "      <td>ياخي ديل ماخلو  للشيطان وإبليس شي لكن يروحو وي...</td>\n",
       "      <td>SD</td>\n",
       "    </tr>\n",
       "    <tr>\n",
       "      <th>147724</th>\n",
       "      <td>@abdomaged127 النبي فيك صدمتني ياخي عاوز تعويض</td>\n",
       "      <td>SD</td>\n",
       "    </tr>\n",
       "  </tbody>\n",
       "</table>\n",
       "<p>147725 rows × 2 columns</p>\n",
       "</div>"
      ],
      "text/plain": [
       "                                                     Text Dialect\n",
       "0       @toha_Altomy @gy_yah قليلين ادب ومنافقين. لو ا...      LY\n",
       "1       @AlmFaisal 😂😂 الليبيين متقلبين!!!\\nبس بالنسبة ...      LY\n",
       "2       @smsm071990 @ALMOGRBE كل 20 تانيه شاب ليبي بير...      LY\n",
       "3       @AboryPro @lyranoo85 رانيا عقليتك متخلفة. اولا...      LY\n",
       "4       @lyranoo85 شكلك متعقدة علشان الراجل لي تحبيه ا...      LY\n",
       "...                                                   ...     ...\n",
       "147720  الناس دي بتنفخ في قربة مقدودة بالدارجي كده  ال...      SD\n",
       "147721  @Wail_Hamza @amiromer انت عايش وين بره السودان...      SD\n",
       "147722  مااحرم نفسي ميسي حريف ولعاب برضو ..\\nمدريدي وا...      SD\n",
       "147723  ياخي ديل ماخلو  للشيطان وإبليس شي لكن يروحو وي...      SD\n",
       "147724     @abdomaged127 النبي فيك صدمتني ياخي عاوز تعويض      SD\n",
       "\n",
       "[147725 rows x 2 columns]"
      ]
     },
     "execution_count": 26,
     "metadata": {},
     "output_type": "execute_result"
    }
   ],
   "source": [
    "df"
   ]
  },
  {
   "cell_type": "code",
   "execution_count": null,
   "id": "492bb9af",
   "metadata": {},
   "outputs": [],
   "source": []
  }
 ],
 "metadata": {
  "kernelspec": {
   "display_name": "Python 3 (ipykernel)",
   "language": "python",
   "name": "python3"
  },
  "language_info": {
   "codemirror_mode": {
    "name": "ipython",
    "version": 3
   },
   "file_extension": ".py",
   "mimetype": "text/x-python",
   "name": "python",
   "nbconvert_exporter": "python",
   "pygments_lexer": "ipython3",
   "version": "3.9.16"
  }
 },
 "nbformat": 4,
 "nbformat_minor": 5
}
